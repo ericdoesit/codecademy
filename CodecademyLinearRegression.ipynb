{
 "cells": [
  {
   "cell_type": "markdown",
   "id": "1dfc4a88-2c32-424c-a767-98b06ba11de6",
   "metadata": {},
   "source": [
    "Project: Linear Regression\n",
    "\n",
    "Reggie is a mad scientist who has been hired by the local fast food joint to build their newest ball pit in the play area. As such, he is working on researching the bounciness of different balls so as to optimize the pit. He is running an experiment to bounce different sizes of bouncy balls, and then fitting lines to the data points he records. He has heard of linear regression, but needs your help to implement a version of linear regression in Python.\n",
    "\n",
    "Linear Regression is when you have a group of points on a graph, and you find a line that approximately resembles that group of points. A good Linear Regression algorithm minimizes the error, or the distance from each point to the line. A line with the least error is the line that fits the data the best. We call this a line of best fit.\n",
    "\n",
    "We will use loops, lists, and arithmetic to create a function that will find a line of best fit when given a set of data."
   ]
  },
  {
   "cell_type": "code",
   "execution_count": 1,
   "id": "d6ff4e54-2425-4efe-8304-c3840fe1929a",
   "metadata": {},
   "outputs": [
    {
     "name": "stdout",
     "output_type": "stream",
     "text": [
      "0.3 1.7 5.0\n",
      "4.0\n"
     ]
    }
   ],
   "source": [
    "def get_y(m, b, x):\n",
    "    return m * x + b\n",
    "\n",
    "def calculate_error(m, b, point):\n",
    "    x_point, y_point = point\n",
    "    y_on_line = get_y(m, b, x_point)\n",
    "    return abs(y_on_line - y_point)\n",
    "\n",
    "def calculate_all_error(m, b, datapoints):\n",
    "    total_error = sum(calculate_error(m, b, point) for point in datapoints)\n",
    "    return total_error\n",
    "\n",
    "datapoints = [(1, 2), (2, 0), (3, 4), (4, 4), (5, 3)]\n",
    "possible_ms = [m / 10 for m in range(-100, 101)]\n",
    "possible_bs = [b / 10 for b in range(-20, 21)]\n",
    "\n",
    "smallest_error = float(\"inf\")\n",
    "best_m = 0\n",
    "best_b = 0\n",
    "\n",
    "for m in possible_ms:\n",
    "    for b in possible_bs:\n",
    "        error = calculate_all_error(m, b, datapoints)\n",
    "        if error < smallest_error:\n",
    "            best_m = m\n",
    "            best_b = b\n",
    "            smallest_error = error\n",
    "\n",
    "print(best_m, best_b, smallest_error)\n",
    "\n",
    "result = get_y(0.4, 1.6, 6)\n",
    "print(result)\n"
   ]
  },
  {
   "cell_type": "code",
   "execution_count": 5,
   "id": "2268e212-e8c6-4e89-9236-8dc9d2cf756b",
   "metadata": {},
   "outputs": [
    {
     "data": {
      "image/png": "[encoded data removed]",
      "text/plain": [
       "<Figure size 640x480 with 1 Axes>"
      ]
     },
     "metadata": {},
     "output_type": "display_data"
    }
   ],
   "source": [
    "import matplotlib.pyplot as plt\n",
    "\n",
    "# Define the function\n",
    "def get_y(m, b, x):\n",
    "    return m * x + b\n",
    "\n",
    "# Define the line parameters\n",
    "m = 0.4\n",
    "b = 1.6\n",
    "\n",
    "# Define the data points\n",
    "datapoints = [(1, 2), (2, 0), (3, 4), (4, 4), (5, 3)]\n",
    "\n",
    "# Generate x values for the line\n",
    "x_values = [x for x, _ in datapoints]\n",
    "y_values = [get_y(m, b, x) for x in x_values]\n",
    "\n",
    "# Plot the line\n",
    "plt.plot(x_values, y_values, label=f'y = {m}x + {b}', color='blue')\n",
    "\n",
    "# Plot the data points\n",
    "x_points, y_points = zip(*datapoints)\n",
    "plt.scatter(x_points, y_points, color='red', label='Data Points')\n",
    "\n",
    "# Add labels and legend\n",
    "plt.xlabel('x')\n",
    "plt.ylabel('y')\n",
    "plt.title('Line of Best Fit')\n",
    "plt.legend()\n",
    "\n",
    "# Show the plot\n",
    "plt.show()"
   ]
  },
  {
   "cell_type": "code",
   "execution_count": null,
   "id": "fb5b70ee-9068-45ba-b917-9a8edbe1d516",
   "metadata": {},
   "outputs": [],
   "source": [
    "import matplotlib.pyplot as plt\n",
    "\n",
    "def get_y(m, b, x):\n",
    "    return m * x + b\n",
    "\n",
    "def calculate_error(m, b, point):\n",
    "    x_point, y_point = point\n",
    "    y_on_line = get_y(m, b, x_point)\n",
    "    return abs(y_on_line - y_point)\n",
    "\n",
    "def calculate_all_error(m, b, datapoints):\n",
    "    return sum(calculate_error(m, b, point) for point in datapoints)\n",
    "\n",
    "datapoints = [(1, 2), (2, 0), (3, 4), (4, 4), (5, 3)]\n",
    "possible_ms = [m / 10 for m in range(-100, 101)]\n",
    "possible_bs = [b / 10 for b in range(-20, 21)]\n",
    "\n",
    "smallest_error = float(\"inf\")\n",
    "best_m = 0\n",
    "best_b = 0\n",
    "\n",
    "for m in possible_ms:\n",
    "    for b in possible_bs:\n",
    "        error = calculate_all_error(m, b, datapoints)\n",
    "        if error < smallest_error:\n",
    "            best_m = m\n",
    "            best_b = b\n",
    "            smallest_error = error\n",
    "\n",
    "# Generate x values for the line\n",
    "x_values = [x for x, _ in datapoints]\n",
    "y_values = [get_y(best_m, best_b, x) for x in x_values]\n",
    "\n",
    "# Plot the line\n",
    "plt.plot(x_values, y_values, label=f'y = {best_m}x + {best_b}', color='blue')\n",
    "\n",
    "# Plot the data points\n",
    "x_points, y_points = zip(*datapoints)\n",
    "plt.scatter(x_points, y_points, color='red', label='Data Points')\n",
    "\n",
    "# Add labels and legend\n",
    "plt.xlabel('x')\n",
    "plt.ylabel('y')\n",
    "plt.title('Line of Best Fit')\n",
    "plt.legend()\n",
    "\n",
    "# Show the plot\n",
    "plt.show()\n"
   ]
  }
 ],
 "metadata": {
  "kernelspec": {
   "display_name": "Python [conda env:base] *",
   "language": "python",
   "name": "conda-base-py"
  },
  "language_info": {
   "codemirror_mode": {
    "name": "ipython",
    "version": 3
   },
   "file_extension": ".py",
   "mimetype": "text/x-python",
   "name": "python",
   "nbconvert_exporter": "python",
   "pygments_lexer": "ipython3",
   "version": "3.12.7"
  }
 },
 "nbformat": 4,
 "nbformat_minor": 5
}
